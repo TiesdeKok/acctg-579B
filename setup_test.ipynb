{
 "cells": [
  {
   "cell_type": "markdown",
   "metadata": {},
   "source": [
    "# Testing notebook"
   ]
  },
  {
   "cell_type": "markdown",
   "metadata": {},
   "source": [
    "> Run all the code in this notebook to test whether your environment is appropriately setup. If you don't see any errors and everything looks like the provided screenshots you are all set!"
   ]
  },
  {
   "cell_type": "markdown",
   "metadata": {},
   "source": [
    "## Testing environment"
   ]
  },
  {
   "cell_type": "markdown",
   "metadata": {},
   "source": [
    "**A warning appears?**   \n",
    "You did not activate the `researchPython` environment. You need to close down Jupyter, activate the environment, and start Jupyter again. "
   ]
  },
  {
   "cell_type": "code",
   "execution_count": 1,
   "metadata": {},
   "outputs": [],
   "source": [
    "import os\n",
    "recommendedEnvironment = 'researchPython'\n",
    "if os.environ['CONDA_DEFAULT_ENV'] != recommendedEnvironment:\n",
    "    print('Warning: it does not appear you are using the {0} environment, did you run \"conda activate {0}\" before starting Jupyter?'.format(recommendedEnvironment))"
   ]
  },
  {
   "cell_type": "markdown",
   "metadata": {},
   "source": [
    "## Testing imports"
   ]
  },
  {
   "cell_type": "markdown",
   "metadata": {},
   "source": [
    "**Run into a problem?** \n",
    "\n",
    "Something likely went wrong when installing Anaconda and/or the `researchPython` environment. \n",
    "\n",
    "I recommend closing Jupyter Lab and removing the `researchPython` environment using:  \n",
    "`conda remove --name researchPython --all`\n",
    "\n",
    "Then you can try to recreate the environment and take a close look at the prompt to make sure it is not throwing errors. **(The errors can be easy to miss, so look carefully!).**"
   ]
  },
  {
   "cell_type": "markdown",
   "metadata": {},
   "source": [
    "#### Code:"
   ]
  },
  {
   "cell_type": "code",
   "execution_count": 2,
   "metadata": {},
   "outputs": [
    {
     "name": "stdout",
     "output_type": "stream",
     "text": [
      "Populating the interactive namespace from numpy and matplotlib\n"
     ]
    }
   ],
   "source": [
    "%pylab inline"
   ]
  },
  {
   "cell_type": "code",
   "execution_count": 3,
   "metadata": {},
   "outputs": [],
   "source": [
    "import os\n",
    "import pandas as pd\n",
    "import numpy as np"
   ]
  },
  {
   "cell_type": "code",
   "execution_count": 4,
   "metadata": {},
   "outputs": [],
   "source": [
    "import requests\n",
    "from requests_html import HTMLSession\n",
    "import pqdm"
   ]
  },
  {
   "cell_type": "markdown",
   "metadata": {},
   "source": [
    "## Test Spacy installation"
   ]
  },
  {
   "cell_type": "markdown",
   "metadata": {},
   "source": [
    "**Run into a problem?**\n",
    "\n",
    "It is likely you did not yet download the Spacy language model:\n",
    "\n",
    "1. Open up your Anaconda prompt\n",
    "2. Activate the `researchPython` environment\n",
    "3. Run: `python -m spacy download en_core_web_lg`\n",
    "4. Restart kernel (click `Kernel` --> `restart kernel` at the top menu bar).\n",
    "5. Try again"
   ]
  },
  {
   "cell_type": "code",
   "execution_count": 5,
   "metadata": {},
   "outputs": [],
   "source": [
    "import spacy\n",
    "nlp = spacy.load(\"en_core_web_lg\")"
   ]
  },
  {
   "cell_type": "markdown",
   "metadata": {},
   "source": [
    "## Test TQDM (not crucial, just a quality of life feature)"
   ]
  },
  {
   "attachments": {
    "a4cb185b-fc85-4c6a-b770-901459ea7faa.png": {
     "image/png": "[encoded data removed]"
    }
   },
   "cell_type": "markdown",
   "metadata": {},
   "source": [
    "**Run into a problem?** \n",
    "\n",
    "**=>** Check the video on this topic in Panopto **\"How to set up jupyterlab extensions.\"**\n",
    "\n",
    "1. Open up your Anaconda prompt\n",
    "2. Activate the `researchPython` environment\n",
    "3. Run: `jupyter labextension install @jupyter-widgets/jupyterlab-manager` \n",
    "4. Click the puzzle icon in the left menu bar, in this menu:  \n",
    "    --> Make sure Jupyter Lab extensions are enabled (if not you will a red warning)  \n",
    "    --> Click the refresh icon (the circle with the arrow next to INSTALLED  \n",
    "    --> You should now see the jupyterlab-manager under INSTALLED  \n",
    "5. Refresh the page in your browser (by pressing F5 or closing it and opening it again)\n",
    "6. Run the code below again\n",
    "\n",
    "\n",
    "You should see:\n",
    "\n",
    "![image.png](attachment:a4cb185b-fc85-4c6a-b770-901459ea7faa.png)\n",
    "\n",
    "It is not working if you see:\n",
    "\n",
    "`HBox(children=(FloatProgress(value=0.0, max=4.0), HTML(value='')))`\n",
    "\n"
   ]
  },
  {
   "cell_type": "markdown",
   "metadata": {},
   "source": [
    "#### Code:"
   ]
  },
  {
   "cell_type": "code",
   "execution_count": 6,
   "metadata": {},
   "outputs": [],
   "source": [
    "from tqdm.notebook import tqdm\n",
    "import time"
   ]
  },
  {
   "cell_type": "code",
   "execution_count": 7,
   "metadata": {},
   "outputs": [
    {
     "data": {
      "application/vnd.jupyter.widget-view+json": {
       "model_id": "58b7b71969fb48879d1c1bfdc81062ab",
       "version_major": 2,
       "version_minor": 0
      },
      "text/plain": [
       "HBox(children=(FloatProgress(value=0.0, max=4.0), HTML(value='')))"
      ]
     },
     "metadata": {},
     "output_type": "display_data"
    },
    {
     "name": "stdout",
     "output_type": "stream",
     "text": [
      "\n"
     ]
    },
    {
     "data": {
      "text/plain": [
       "[0, 2, 3, 4]"
      ]
     },
     "execution_count": 7,
     "metadata": {},
     "output_type": "execute_result"
    }
   ],
   "source": [
    "[x for x in tqdm([0, 2, 3,4])]"
   ]
  },
  {
   "cell_type": "code",
   "execution_count": 8,
   "metadata": {},
   "outputs": [
    {
     "data": {
      "application/vnd.jupyter.widget-view+json": {
       "model_id": "deb018756f014163a8efbc25f8bc9508",
       "version_major": 2,
       "version_minor": 0
      },
      "text/plain": [
       "HBox(children=(FloatProgress(value=0.0, max=10.0), HTML(value='')))"
      ]
     },
     "metadata": {},
     "output_type": "display_data"
    },
    {
     "name": "stdout",
     "output_type": "stream",
     "text": [
      "\n"
     ]
    }
   ],
   "source": [
    "for i in tqdm(range(10)):\n",
    "    time.sleep(1)"
   ]
  }
 ],
 "metadata": {
  "kernelspec": {
   "display_name": "Python 3",
   "language": "python",
   "name": "python3"
  },
  "language_info": {
   "codemirror_mode": {
    "name": "ipython",
    "version": 3
   },
   "file_extension": ".py",
   "mimetype": "text/x-python",
   "name": "python",
   "nbconvert_exporter": "python",
   "pygments_lexer": "ipython3",
   "version": "3.8.5"
  }
 },
 "nbformat": 4,
 "nbformat_minor": 4
}
