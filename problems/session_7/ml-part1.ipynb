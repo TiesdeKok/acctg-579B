{
 "cells": [
  {
   "cell_type": "markdown",
   "metadata": {},
   "source": [
    "# Machine Learning Part 1 - Problems"
   ]
  },
  {
   "cell_type": "markdown",
   "metadata": {
    "colab_type": "text",
    "id": "rYYTxll6wm6i"
   },
   "source": [
    "**Author:** Ties de Kok ([Personal Website](https://www.tiesdekok.com))  <br>\n",
    "**Last updated:** September 2020  \n",
    "**Python version:** Python 3.6+     \n",
    "**Recommended environment: `researchPython`**"
   ]
  },
  {
   "cell_type": "code",
   "execution_count": 1,
   "metadata": {},
   "outputs": [],
   "source": [
    "import os\n",
    "recommendedEnvironment = 'researchPython'\n",
    "if os.environ['CONDA_DEFAULT_ENV'] != recommendedEnvironment:\n",
    "    print('Warning: it does not appear you are using the {0} environment, did you run \"conda activate {0}\" before starting Jupyter?'.format(recommendedEnvironment))"
   ]
  },
  {
   "cell_type": "markdown",
   "metadata": {},
   "source": [
    "<div style='border-style: solid; padding: 10px; border-color: black; border-width:5px;  text-align: left; margin-top:20px; margin-bottom: 20px;'>\n",
    "<span style='color:black; font-size: 30px; font-weight:bold;'>Introduction</span>\n",
    "</div>"
   ]
  },
  {
   "cell_type": "markdown",
   "metadata": {
    "colab_type": "text",
    "id": "XDCbIPT4wm6l"
   },
   "source": [
    "<div style='border-style: solid; padding: 5px; border-color: darkred; border-width:5px;  text-align: center; margin-left: 100px; margin-right:100px;'>\n",
    "<span style='color:black; font-size: 20px; font-weight:bold;'> Make sure to open up the respective tutorial notebook(s)! <br> That is what you are expected to use as primariy reference material. </span>\n",
    "</div>"
   ]
  },
  {
   "cell_type": "markdown",
   "metadata": {},
   "source": [
    "### Relevant tutorial notebooks:\n",
    "\n",
    "1) [`0_python_basics.ipynb`](https://nbviewer.jupyter.org/github/TiesdeKok/LearnPythonforResearch/blob/master/0_python_basics.ipynb)  \n",
    "\n",
    "\n",
    "2) [`2_handling_data.ipynb`](https://nbviewer.jupyter.org/github/TiesdeKok/LearnPythonforResearch/blob/master/2_handling_data.ipynb)  \n",
    "\n",
    "\n",
    "3) [`NLP_Notebook.ipynb`](https://nbviewer.jupyter.org/github/TiesdeKok/Python_NLP_Tutorial/blob/master/NLP_Notebook.ipynb)  "
   ]
  },
  {
   "cell_type": "markdown",
   "metadata": {},
   "source": [
    "## Import required packages"
   ]
  },
  {
   "cell_type": "code",
   "execution_count": 2,
   "metadata": {},
   "outputs": [],
   "source": [
    "import os, sys\n",
    "import pandas as pd\n",
    "import numpy as np\n",
    "from tqdm.notebook import tqdm"
   ]
  },
  {
   "cell_type": "code",
   "execution_count": 101,
   "metadata": {},
   "outputs": [],
   "source": [
    "from sklearn.model_selection import train_test_split\n",
    "from sklearn.metrics import classification_report\n",
    "from sklearn.model_selection import cross_val_score\n",
    "from sklearn.pipeline import make_pipeline\n",
    "from sklearn.model_selection import GridSearchCV\n",
    "from sklearn.preprocessing import FunctionTransformer"
   ]
  },
  {
   "cell_type": "code",
   "execution_count": 4,
   "metadata": {},
   "outputs": [],
   "source": [
    "from sklearn.feature_extraction.text import CountVectorizer\n",
    "from sklearn.feature_extraction.text import TfidfVectorizer"
   ]
  },
  {
   "cell_type": "code",
   "execution_count": 5,
   "metadata": {},
   "outputs": [],
   "source": [
    "from sklearn.linear_model import LogisticRegression\n",
    "from sklearn.svm import SVC\n",
    "from sklearn.naive_bayes import GaussianNB"
   ]
  },
  {
   "cell_type": "code",
   "execution_count": 6,
   "metadata": {},
   "outputs": [],
   "source": [
    "import statsmodels.api as sm"
   ]
  },
  {
   "cell_type": "markdown",
   "metadata": {},
   "source": [
    "<div style='border-style: solid; padding: 10px; border-color: black; border-width:5px;  text-align: left; margin-top:20px; margin-bottom: 20px;'>\n",
    "<span style='color:black; font-size: 30px; font-weight:bold;'>Part 1: classification with textual data </span>\n",
    "</div>  \n",
    "\n",
    "<div style='border-style: solid; padding: 5px; border-color: darkred; border-width:5px;  text-align: center; margin-left: 100px; margin-right:100px;'>\n",
    "<span style='color:black; font-size: 15px; font-weight:bold;'> Note: feel free to add as many cells as you'd like to answer these problems, you don't have to fit it all in one cell. </span>\n",
    "</div>"
   ]
  },
  {
   "cell_type": "markdown",
   "metadata": {},
   "source": [
    "For part 1 you will work with a dataset of news article headlines. The original dataset is documented here: http://groups.di.unipi.it/~gulli/AG_corpus_of_news_articles.html.\n",
    "\n",
    "A modified version of the dataset, which are you expected to use, is located here: `data --> news_df.xlsx`.  \n",
    "\n",
    "The modified dataset contains cleaned up news article titles for two categories: *Business* and *Sport*. \n",
    "\n",
    "**Your end goal:** create a machine learning classifier that can identify *Business* headlines from *Sports* headlines. "
   ]
  },
  {
   "cell_type": "markdown",
   "metadata": {},
   "source": [
    "----\n",
    "## 1a) Prepare the data"
   ]
  },
  {
   "cell_type": "markdown",
   "metadata": {},
   "source": [
    "### 1a - i) Load the `news_df` file using Pandas  \n",
    "\n",
    "The file is located here: `data --> news_df.xlsx`"
   ]
  },
  {
   "cell_type": "code",
   "execution_count": null,
   "metadata": {},
   "outputs": [],
   "source": []
  },
  {
   "cell_type": "code",
   "execution_count": null,
   "metadata": {},
   "outputs": [],
   "source": []
  },
  {
   "cell_type": "code",
   "execution_count": null,
   "metadata": {},
   "outputs": [],
   "source": []
  },
  {
   "cell_type": "markdown",
   "metadata": {},
   "source": [
    "### 1a - ii) Drop any rows with missing values in `news_df`"
   ]
  },
  {
   "cell_type": "code",
   "execution_count": null,
   "metadata": {},
   "outputs": [],
   "source": []
  },
  {
   "cell_type": "code",
   "execution_count": null,
   "metadata": {},
   "outputs": [],
   "source": []
  },
  {
   "cell_type": "code",
   "execution_count": null,
   "metadata": {},
   "outputs": [],
   "source": []
  },
  {
   "cell_type": "markdown",
   "metadata": {},
   "source": [
    "### 1a - iii) Show the number of headlines in the sample for each category  \n",
    "\n",
    "Do we have to be worried about an imbalanced classification?"
   ]
  },
  {
   "cell_type": "code",
   "execution_count": null,
   "metadata": {},
   "outputs": [],
   "source": []
  },
  {
   "cell_type": "code",
   "execution_count": null,
   "metadata": {},
   "outputs": [],
   "source": []
  },
  {
   "cell_type": "code",
   "execution_count": null,
   "metadata": {},
   "outputs": [],
   "source": []
  },
  {
   "cell_type": "markdown",
   "metadata": {},
   "source": [
    "### 1a - iiii) Create a new column called `y` that contains a `1` if the category is Business and `0` otherwise "
   ]
  },
  {
   "cell_type": "code",
   "execution_count": null,
   "metadata": {},
   "outputs": [],
   "source": []
  },
  {
   "cell_type": "code",
   "execution_count": null,
   "metadata": {},
   "outputs": [],
   "source": []
  },
  {
   "cell_type": "code",
   "execution_count": null,
   "metadata": {},
   "outputs": [],
   "source": []
  },
  {
   "cell_type": "markdown",
   "metadata": {},
   "source": [
    "### 1a - v) Use the logic from session 6 to represent the `title` numerically using the `TFIDF` method.\n",
    "\n",
    "Use the `stop_words = 'english'` parameter to exclude stopwords."
   ]
  },
  {
   "cell_type": "code",
   "execution_count": null,
   "metadata": {},
   "outputs": [],
   "source": []
  },
  {
   "cell_type": "code",
   "execution_count": null,
   "metadata": {},
   "outputs": [],
   "source": []
  },
  {
   "cell_type": "code",
   "execution_count": null,
   "metadata": {},
   "outputs": [],
   "source": []
  },
  {
   "cell_type": "markdown",
   "metadata": {},
   "source": [
    "----\n",
    "## 1b) Create a train / test split"
   ]
  },
  {
   "cell_type": "markdown",
   "metadata": {},
   "source": [
    "## 1b i) Create a train - test  split using `train_test_split` with a test size of `0.33`.  \n",
    "I generally recommend to specify the `random_state` variable to a number of your choice.  \n",
    "\n",
    "**Note:** to ensure an equal distribution of 1 and 0 between the train / test samples I recommend to use the `stratify` parameter to stratify on the Y column.\n"
   ]
  },
  {
   "cell_type": "code",
   "execution_count": null,
   "metadata": {},
   "outputs": [],
   "source": []
  },
  {
   "cell_type": "code",
   "execution_count": null,
   "metadata": {},
   "outputs": [],
   "source": []
  },
  {
   "cell_type": "code",
   "execution_count": null,
   "metadata": {},
   "outputs": [],
   "source": []
  },
  {
   "cell_type": "markdown",
   "metadata": {},
   "source": [
    "## 1b ii) How many observations do you have in your train and test samples?"
   ]
  },
  {
   "cell_type": "code",
   "execution_count": null,
   "metadata": {},
   "outputs": [],
   "source": []
  },
  {
   "cell_type": "code",
   "execution_count": null,
   "metadata": {},
   "outputs": [],
   "source": []
  },
  {
   "cell_type": "code",
   "execution_count": null,
   "metadata": {},
   "outputs": [],
   "source": []
  },
  {
   "cell_type": "markdown",
   "metadata": {},
   "source": [
    "-----\n",
    "## 1c) Basic logistic regression  \n",
    "\n",
    "https://scikit-learn.org/stable/modules/generated/sklearn.linear_model.LogisticRegression.html"
   ]
  },
  {
   "cell_type": "markdown",
   "metadata": {},
   "source": [
    "### 1c - i) Train the logistic regression with the default parameters\n",
    "I generally recommend to specify the `random_state` variable to a number of your choice.  \n",
    "\n",
    "**Tip:** you might have to add `max_iter=1000` to make sure the model converges (you'll get a warning otherwise). \n",
    "\n",
    "**Reminder:** you train the model based on the training data created in step 1b."
   ]
  },
  {
   "cell_type": "code",
   "execution_count": null,
   "metadata": {},
   "outputs": [],
   "source": []
  },
  {
   "cell_type": "code",
   "execution_count": null,
   "metadata": {},
   "outputs": [],
   "source": []
  },
  {
   "cell_type": "code",
   "execution_count": null,
   "metadata": {},
   "outputs": [],
   "source": []
  },
  {
   "cell_type": "markdown",
   "metadata": {},
   "source": [
    "### 1c - ii) Show the classification report  \n",
    "https://scikit-learn.org/stable/modules/generated/sklearn.metrics.classification_report.html  \n",
    "\n",
    "**Hint 1:** You will first have to predict y based on the X data in your *test* sample.  \n",
    "**Hint 2:** You will want to compare the true y values for the *test* sample with the predicted y values for the test sample. "
   ]
  },
  {
   "cell_type": "code",
   "execution_count": null,
   "metadata": {},
   "outputs": [],
   "source": []
  },
  {
   "cell_type": "code",
   "execution_count": null,
   "metadata": {},
   "outputs": [],
   "source": []
  },
  {
   "cell_type": "code",
   "execution_count": null,
   "metadata": {},
   "outputs": [],
   "source": []
  },
  {
   "cell_type": "markdown",
   "metadata": {},
   "source": [
    "### 1c - iii) Validate your LogisticRegression using 5 fold cross validation.  \n",
    "\n",
    "Use `cross_val_score` with 5 folds, your scoring metric should be `f1_macro`.\n",
    "\n",
    "**Question:** does the `f1_macro` reported in `1c-ii` hold up with cross validation?\n",
    "\n",
    "See: https://scikit-learn.org/stable/modules/cross_validation.html#computing-cross-validated-metrics"
   ]
  },
  {
   "cell_type": "code",
   "execution_count": null,
   "metadata": {},
   "outputs": [],
   "source": []
  },
  {
   "cell_type": "code",
   "execution_count": null,
   "metadata": {},
   "outputs": [],
   "source": []
  },
  {
   "cell_type": "code",
   "execution_count": null,
   "metadata": {},
   "outputs": [],
   "source": []
  },
  {
   "cell_type": "markdown",
   "metadata": {},
   "source": [
    "### 1c - iiii) Create a sklearn pipeline to combine the TFIDF model with the logistic regression\n",
    "https://scikit-learn.org/stable/modules/generated/sklearn.pipeline.make_pipeline.html#sklearn.pipeline.make_pipeline\n",
    "\n",
    "Use `make_pipeline` to combine combine the `TfidfVectorizer` step with the `LogisticRegression` step."
   ]
  },
  {
   "cell_type": "code",
   "execution_count": null,
   "metadata": {},
   "outputs": [],
   "source": []
  },
  {
   "cell_type": "code",
   "execution_count": null,
   "metadata": {},
   "outputs": [],
   "source": []
  },
  {
   "cell_type": "code",
   "execution_count": null,
   "metadata": {},
   "outputs": [],
   "source": []
  },
  {
   "cell_type": "markdown",
   "metadata": {},
   "source": [
    "### 1c - v) Train the model again but now use the pipeline you just created  \n",
    "**Warning:** you will have to recreate your train/test splits but now with the titles themselves because the pipeline will take care of the TFIDF step! \n",
    "\n",
    "Follow these steps:\n",
    "\n",
    "1) Recreate the train/test splits with `news_df['title']` and `news_df['y']` (*Reminder:* test size 33% and with stratify on y)     \n",
    "2) Train (i.e. fit) the pipeline with the training data  \n",
    "3) Create the classification report with the test data"
   ]
  },
  {
   "cell_type": "code",
   "execution_count": null,
   "metadata": {},
   "outputs": [],
   "source": []
  },
  {
   "cell_type": "code",
   "execution_count": null,
   "metadata": {},
   "outputs": [],
   "source": []
  },
  {
   "cell_type": "code",
   "execution_count": null,
   "metadata": {},
   "outputs": [],
   "source": []
  },
  {
   "cell_type": "markdown",
   "metadata": {},
   "source": [
    "### 1c - vi) Use the pipeline to create a prediction for the following out-of-sample sentences:   \n",
    "```python\n",
    "sentences = ['The market cap of Apple recently surpassed 2 trillion dollars.', \n",
    "             'Seattle Sounders go on record-setting goal barrage vs San Jose Earthquakes.']\n",
    "```"
   ]
  },
  {
   "cell_type": "code",
   "execution_count": null,
   "metadata": {},
   "outputs": [],
   "source": []
  },
  {
   "cell_type": "code",
   "execution_count": null,
   "metadata": {},
   "outputs": [],
   "source": []
  },
  {
   "cell_type": "code",
   "execution_count": null,
   "metadata": {},
   "outputs": [],
   "source": []
  },
  {
   "attachments": {
    "ff670c2c-79e1-4254-8408-42edb6db3915.png": {
     "image/png": "[encoded data removed]"
    }
   },
   "cell_type": "markdown",
   "metadata": {},
   "source": [
    "### 1c - vii) Use `lime` to explain what the model is doing   \n",
    "\n",
    "For this we will use the `LIME` library, which is not included yet in the `environment.yml` file.\n",
    "\n",
    "You can read up on it here: https://github.com/marcotcr/lime\n",
    "\n",
    "You can install `lime` by following these steps:\n",
    "\n",
    "1. Open up your Anaconda prompt / terminal  \n",
    "2. Activate the `researchPython` environment  \n",
    "3. Run `pip install lime`  \n",
    "4. Import lime into the notebook (see below):\n",
    "\n",
    "```python\n",
    "from lime.lime_text import LimeTextExplainer\n",
    "```\n",
    "\n",
    "**Your task:** recreate the illustration below for the two out-of-sample sentencesfrom step `1c - vi`.   \n",
    "\n",
    "**Hint:** https://marcotcr.github.io/lime/tutorials/Lime%20-%20basic%20usage%2C%20two%20class%20case.html\n",
    "\n",
    "![image.png](attachment:ff670c2c-79e1-4254-8408-42edb6db3915.png)"
   ]
  },
  {
   "cell_type": "code",
   "execution_count": null,
   "metadata": {},
   "outputs": [],
   "source": []
  },
  {
   "cell_type": "code",
   "execution_count": null,
   "metadata": {},
   "outputs": [],
   "source": []
  },
  {
   "cell_type": "code",
   "execution_count": null,
   "metadata": {},
   "outputs": [],
   "source": []
  },
  {
   "cell_type": "markdown",
   "metadata": {},
   "source": [
    "----\n",
    "## 1d) Basic SVC (SVM) model  \n",
    "\n",
    "https://scikit-learn.org/stable/modules/generated/sklearn.svm.SVC.html\n",
    "\n",
    "The two hyper-parameters that you should be concerned with are:  \n",
    "\n",
    "- `C`\n",
    "- `gamma` <-- For a first try you can leave this on the default setting.   \n",
    "\n",
    "\n"
   ]
  },
  {
   "cell_type": "markdown",
   "metadata": {},
   "source": [
    "### 1d i) Create & fit a pipeline with the TFIDF vectorizer and the `SVC` model  \n",
    "\n",
    "Steps:  \n",
    "\n",
    "1. Create a pipeline   \n",
    "2. Create a train/test split   \n",
    "3. Fit the pipeline  \n",
    "\n",
    "**Note:** training the SVC model is a lot slower compared to the logistic regression, feel free to perform the code below on a smaller set. You can do so with the code below.  \n",
    "\n",
    "```python\n",
    "smaller_df = news_df.sample(20000)\n",
    "```\n",
    "\n",
    "Obviously a smaller sample is likely to reduce your ML performance, but for the sake of development it can speed things up a lot."
   ]
  },
  {
   "cell_type": "code",
   "execution_count": null,
   "metadata": {},
   "outputs": [],
   "source": []
  },
  {
   "cell_type": "code",
   "execution_count": null,
   "metadata": {},
   "outputs": [],
   "source": []
  },
  {
   "cell_type": "code",
   "execution_count": null,
   "metadata": {},
   "outputs": [],
   "source": []
  },
  {
   "cell_type": "markdown",
   "metadata": {},
   "source": [
    "### 1d ii) Show the classification report  "
   ]
  },
  {
   "cell_type": "code",
   "execution_count": null,
   "metadata": {},
   "outputs": [],
   "source": []
  },
  {
   "cell_type": "code",
   "execution_count": null,
   "metadata": {},
   "outputs": [],
   "source": []
  },
  {
   "cell_type": "code",
   "execution_count": null,
   "metadata": {},
   "outputs": [],
   "source": []
  },
  {
   "cell_type": "markdown",
   "metadata": {},
   "source": [
    "### 1c iii) Perform hyper parameter optimization   \n",
    "https://scikit-learn.org/stable/modules/generated/sklearn.model_selection.GridSearchCV.html  \n",
    "\n",
    "Steps:  \n",
    "\n",
    "1. Recreate the pipeline but don't specify the parameters (except for maybe random_state)  \n",
    "2. Create a variable with the following parameter grid:  \n",
    "\n",
    "```python\n",
    "param_grid = {\n",
    "    'tfidfvectorizer__stop_words': ['english', None],\n",
    "    'svc__C': [1],\n",
    "    'svc__gamma': [0.001, 'scale'],\n",
    "    'svc__kernel' : ['rbf']\n",
    "}\n",
    "```   \n",
    "3. Create the gridsearch object using `GridSearchCV` --> use `scoring='f1_macro'`\n",
    "4. Fit the gridsearch  \n",
    "\n",
    "**Warning:** This might take some minutes to complete, that is normal. With a single thread (i.e. without `n_jobs=-1`) it will likely take between 3.5 to 5 minutes.\n",
    "**Tip:** You can try setting `n_jobs=-1` in the `GridSearchCV` function to speed the gridsearch up, this will use all the processing threads in your computer instead of only 1.\n",
    "\n",
    "**Note:** you are likely to get different results from `GridSearchCV` and your result from `1d - i/ii`, this is because `GridSearchCV` defaults to 5-fold cross validation. \n"
   ]
  },
  {
   "cell_type": "code",
   "execution_count": null,
   "metadata": {},
   "outputs": [],
   "source": []
  },
  {
   "cell_type": "code",
   "execution_count": null,
   "metadata": {},
   "outputs": [],
   "source": []
  },
  {
   "cell_type": "code",
   "execution_count": null,
   "metadata": {},
   "outputs": [],
   "source": []
  },
  {
   "cell_type": "markdown",
   "metadata": {},
   "source": [
    "### 1c - iiii) Show the parameters and classification report for the best performing model"
   ]
  },
  {
   "cell_type": "code",
   "execution_count": null,
   "metadata": {},
   "outputs": [],
   "source": []
  },
  {
   "cell_type": "code",
   "execution_count": null,
   "metadata": {},
   "outputs": [],
   "source": []
  },
  {
   "cell_type": "code",
   "execution_count": null,
   "metadata": {},
   "outputs": [],
   "source": []
  },
  {
   "cell_type": "markdown",
   "metadata": {},
   "source": [
    "----\n",
    "## 1d ) Naive Bayes\n",
    "https://scikit-learn.org/stable/modules/naive_bayes.html\n",
    "\n",
    "**Task:** combine what you learned above to create a Naive Bayes pipeline to predict the news categories. Make sure to include a classification report.\n",
    "\n",
    "**Note:** Using the default parameters is fine for this excersise (i.e. you don't have to include the gridsearch step).  \n",
    "\n",
    "**Warning:** you'll likely get an error about an incompatibility with the spare matrix, you can solve that by adding `FunctionTransformer(lambda x: x.todense(), accept_sparse=True)` to you pipeline in between the vectorizer step and the Naive Bayes step."
   ]
  },
  {
   "cell_type": "code",
   "execution_count": null,
   "metadata": {},
   "outputs": [],
   "source": []
  },
  {
   "cell_type": "code",
   "execution_count": null,
   "metadata": {},
   "outputs": [],
   "source": []
  },
  {
   "cell_type": "code",
   "execution_count": null,
   "metadata": {},
   "outputs": [],
   "source": []
  },
  {
   "cell_type": "markdown",
   "metadata": {},
   "source": [
    "<div style='border-style: solid; padding: 10px; border-color: black; border-width:5px;  text-align: left; margin-top:20px; margin-bottom: 20px;'>\n",
    "<span style='color:black; font-size: 30px; font-weight:bold;'>Part 2: regression with numerical data</span>\n",
    "</div>"
   ]
  },
  {
   "cell_type": "markdown",
   "metadata": {},
   "source": [
    "**You end goal:** predict the fare of an airplane ticket departing in Seattle based on: \n",
    "\n",
    "* The year  \n",
    "* The quarter  \n",
    "* The destination  \n",
    "* Operating carrier\n",
    "* Whether the flight has a layover"
   ]
  },
  {
   "cell_type": "markdown",
   "metadata": {},
   "source": [
    "## 2a) Prepare the data"
   ]
  },
  {
   "cell_type": "markdown",
   "metadata": {},
   "source": [
    "### 2a - i) Load the dataset  \n",
    "The dataset is located in `data/sea_ticket_df.xlsx`.  \n",
    "\n",
    "**Hint:** You can get rid of the `Unnamed: 0` column by specifying `index_col=0` in your `read_excel` function."
   ]
  },
  {
   "cell_type": "code",
   "execution_count": null,
   "metadata": {},
   "outputs": [],
   "source": []
  },
  {
   "cell_type": "code",
   "execution_count": null,
   "metadata": {},
   "outputs": [],
   "source": []
  },
  {
   "cell_type": "code",
   "execution_count": null,
   "metadata": {},
   "outputs": [],
   "source": []
  },
  {
   "cell_type": "markdown",
   "metadata": {},
   "source": [
    "### 2a - ii) Convert the `operating_carrier` and `dest` columns to numerical identifiers  \n",
    "\n",
    "In order to include the `operating_carrier` and `dest` columns we will have to convert them into dummy variables.\n",
    "\n",
    "We can do so by using `pd.get_dummies(...)`. \n",
    "\n",
    "**Hint:** You can add the dummies to the dataframe by using `.join()`."
   ]
  },
  {
   "cell_type": "code",
   "execution_count": null,
   "metadata": {},
   "outputs": [],
   "source": []
  },
  {
   "cell_type": "code",
   "execution_count": null,
   "metadata": {},
   "outputs": [],
   "source": []
  },
  {
   "cell_type": "code",
   "execution_count": null,
   "metadata": {},
   "outputs": [],
   "source": []
  },
  {
   "cell_type": "markdown",
   "metadata": {},
   "source": [
    "### 2a - iii) Change `has_overlay` to `1` and `0` instead of `True` and `False`"
   ]
  },
  {
   "cell_type": "code",
   "execution_count": null,
   "metadata": {},
   "outputs": [],
   "source": []
  },
  {
   "cell_type": "code",
   "execution_count": null,
   "metadata": {},
   "outputs": [],
   "source": []
  },
  {
   "cell_type": "code",
   "execution_count": null,
   "metadata": {},
   "outputs": [],
   "source": []
  },
  {
   "cell_type": "markdown",
   "metadata": {},
   "source": [
    "## 2b) Linear regression   \n",
    "\n",
    "You can run linear regressions using Python in a wide variety of ways, most notably:  \n",
    " \n",
    "1) Using scikit learn   \n",
    "    --> https://scikit-learn.org/stable/modules/generated/sklearn.linear_model.LinearRegression.html   \n",
    "2) Using statsmodels  \n",
    "    -->  https://www.statsmodels.org/stable/regression.html   \n",
    "3) Using scipy  \n",
    "    --> https://docs.scipy.org/doc/scipy-0.14.0/reference/generated/scipy.stats.linregress.html   \n",
    "4) Using a R or Stata integration (we'll discuss this in the last session)   \n",
    "\n",
    "Personally I generally use option 4, however, it can sometimes still be useful to know how to do a basic regression in Python.\n",
    "\n",
    "**For the steps below use `statsmodels`.**"
   ]
  },
  {
   "cell_type": "markdown",
   "metadata": {},
   "source": [
    "### 2b - i) Run a linear regression with `statsmodels`  \n",
    "\n",
    "Use `market_fare` as you dependent variable and `year`, `quarter`, `has_layover`, and the destination + carrier_dummies as your independent variables.     \n",
    "\n",
    "**Tip:** `statmodels` provides a nice summary function that can be accesed using `.summary()`.\n",
    "\n",
    "See: https://www.statsmodels.org/stable/regression.html"
   ]
  },
  {
   "cell_type": "code",
   "execution_count": null,
   "metadata": {},
   "outputs": [],
   "source": []
  },
  {
   "cell_type": "code",
   "execution_count": null,
   "metadata": {},
   "outputs": [],
   "source": []
  },
  {
   "cell_type": "code",
   "execution_count": null,
   "metadata": {},
   "outputs": [],
   "source": []
  },
  {
   "cell_type": "markdown",
   "metadata": {},
   "source": [
    "### 2b - ii) Add the predicted market fares back into your dataframe \n"
   ]
  },
  {
   "cell_type": "code",
   "execution_count": null,
   "metadata": {},
   "outputs": [],
   "source": []
  },
  {
   "cell_type": "code",
   "execution_count": null,
   "metadata": {},
   "outputs": [],
   "source": []
  },
  {
   "cell_type": "code",
   "execution_count": null,
   "metadata": {},
   "outputs": [],
   "source": []
  }
 ],
 "metadata": {
  "kernelspec": {
   "display_name": "Python 3",
   "language": "python",
   "name": "python3"
  },
  "language_info": {
   "codemirror_mode": {
    "name": "ipython",
    "version": 3
   },
   "file_extension": ".py",
   "mimetype": "text/x-python",
   "name": "python",
   "nbconvert_exporter": "python",
   "pygments_lexer": "ipython3",
   "version": "3.8.5"
  }
 },
 "nbformat": 4,
 "nbformat_minor": 4
}
